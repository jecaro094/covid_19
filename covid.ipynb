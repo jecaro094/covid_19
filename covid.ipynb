{
 "cells": [
  {
   "cell_type": "code",
   "execution_count": 1,
   "metadata": {},
   "outputs": [
    {
     "name": "stdout",
     "output_type": "stream",
     "text": [
      "Collecting kaggle\n",
      "\u001b[?25l  Downloading https://files.pythonhosted.org/packages/62/ab/bb20f9b9e24f9a6250f95a432f8d9a7d745f8d24039d7a5a6eaadb7783ba/kaggle-1.5.6.tar.gz (58kB)\n",
      "\u001b[K     |████████████████████████████████| 61kB 664kB/s eta 0:00:01\n",
      "\u001b[?25hRequirement already satisfied: urllib3<1.25,>=1.21.1 in /home/bigdata/anaconda3/lib/python3.7/site-packages (from kaggle) (1.24.2)\n",
      "Requirement already satisfied: six>=1.10 in /home/bigdata/anaconda3/lib/python3.7/site-packages (from kaggle) (1.12.0)\n",
      "Requirement already satisfied: certifi in /home/bigdata/anaconda3/lib/python3.7/site-packages (from kaggle) (2019.9.11)\n",
      "Requirement already satisfied: python-dateutil in /home/bigdata/anaconda3/lib/python3.7/site-packages (from kaggle) (2.8.0)\n",
      "Requirement already satisfied: requests in /home/bigdata/anaconda3/lib/python3.7/site-packages (from kaggle) (2.22.0)\n",
      "Requirement already satisfied: tqdm in /home/bigdata/anaconda3/lib/python3.7/site-packages (from kaggle) (4.36.1)\n",
      "Collecting python-slugify (from kaggle)\n",
      "  Downloading https://files.pythonhosted.org/packages/92/5f/7b84a0bba8a0fdd50c046f8b57dcf179dc16237ad33446079b7c484de04c/python-slugify-4.0.0.tar.gz\n",
      "Requirement already satisfied: idna<2.9,>=2.5 in /home/bigdata/anaconda3/lib/python3.7/site-packages (from requests->kaggle) (2.8)\n",
      "Requirement already satisfied: chardet<3.1.0,>=3.0.2 in /home/bigdata/anaconda3/lib/python3.7/site-packages (from requests->kaggle) (3.0.4)\n",
      "Collecting text-unidecode>=1.3 (from python-slugify->kaggle)\n",
      "\u001b[?25l  Downloading https://files.pythonhosted.org/packages/a6/a5/c0b6468d3824fe3fde30dbb5e1f687b291608f9473681bbf7dabbf5a87d7/text_unidecode-1.3-py2.py3-none-any.whl (78kB)\n",
      "\u001b[K     |████████████████████████████████| 81kB 2.7MB/s eta 0:00:011\n",
      "\u001b[?25hBuilding wheels for collected packages: kaggle, python-slugify\n",
      "  Building wheel for kaggle (setup.py) ... \u001b[?25ldone\n",
      "\u001b[?25h  Created wheel for kaggle: filename=kaggle-1.5.6-cp37-none-any.whl size=72859 sha256=5f5902d00f52bfa26fc15ef3521f64b1e1fe119d9644f1142cb1cae87b0955b1\n",
      "  Stored in directory: /home/bigdata/.cache/pip/wheels/57/4e/e8/bb28d035162fb8f17f8ca5d42c3230e284c6aa565b42b72674\n",
      "  Building wheel for python-slugify (setup.py) ... \u001b[?25ldone\n",
      "\u001b[?25h  Created wheel for python-slugify: filename=python_slugify-4.0.0-py2.py3-none-any.whl size=5487 sha256=a489c3c9e5fe33c9c4eab73f99639dbae1ae3064b59bcb4a8344f231be79ea08\n",
      "  Stored in directory: /home/bigdata/.cache/pip/wheels/11/94/81/312969455540cb0e6a773e5d68a73c14128bfdfd4a7969bb4f\n",
      "Successfully built kaggle python-slugify\n",
      "Installing collected packages: text-unidecode, python-slugify, kaggle\n",
      "Successfully installed kaggle-1.5.6 python-slugify-4.0.0 text-unidecode-1.3\n"
     ]
    }
   ],
   "source": [
    "!pip install kaggle"
   ]
  },
  {
   "cell_type": "code",
   "execution_count": 1,
   "metadata": {},
   "outputs": [],
   "source": [
    "import kaggle\n",
    "\n",
    "kaggle.api.authenticate()"
   ]
  },
  {
   "cell_type": "code",
   "execution_count": 2,
   "metadata": {},
   "outputs": [
    {
     "name": "stdout",
     "output_type": "stream",
     "text": [
      "ref                                                         title                                                size  lastUpdated          downloadCount  voteCount  usabilityRating  \n",
      "----------------------------------------------------------  --------------------------------------------------  -----  -------------------  -------------  ---------  ---------------  \n",
      "kimjihoo/coronavirusdataset                                 Coronavirus-Dataset                                  32KB  2020-03-13 13:48:11          12687        566  1.0              \n",
      "sudalairajkumar/novel-corona-virus-2019-dataset             Novel Corona Virus 2019 Dataset                     348KB  2020-03-12 10:57:12          40271       1796  0.9705882        \n",
      "rupals/gpu-runtime                                          Segmentation on GPU Kernel Performance Dataset        4MB  2020-03-01 10:04:27            167         12  0.8235294        \n",
      "paultimothymooney/coronavirus-genome-sequence               Coronavirus Genome Sequence                           9MB  2020-02-29 00:25:13            171         18  1.0              \n",
      "imdevskp/sars-outbreak-2003-complete-dataset                SARS 2003 Outbreak Complete Dataset                  10KB  2020-02-26 10:25:22           1074         41  1.0              \n",
      "paultimothymooney/repository-of-coronavirus-genomes         Repository of Coronavirus Genomes                    37MB  2020-03-03 02:01:34             82         13  0.8235294        \n",
      "umangjpatel/pap-smear-datasets                              Pap Smear Datasets                                    6GB  2020-03-07 11:04:23            140         16  0.875            \n",
      "imdevskp/ebola-outbreak-20142016-complete-dataset           Ebola 2014-2016 Outbreak Complete Dataset           101KB  2020-02-26 14:36:31           1102         51  1.0              \n",
      "prakrutchauhan/indian-candidates-for-general-election-2019  Indian Candidates for General Election 2019         133KB  2020-03-03 07:01:53            705         40  0.7058824        \n",
      "brunotly/foreign-exchange-rates-per-dollar-20002019         Foreign Exchange Rates 2000-2019                      1MB  2020-03-03 17:43:07           1019         46  1.0              \n",
      "shivamb/real-or-fake-fake-jobposting-prediction             [Real or Fake] Fake JobPosting Prediction            16MB  2020-02-29 08:23:34           1332         82  1.0              \n",
      "shank885/knife-dataset                                      Knife Dataset                                         1MB  2020-03-02 06:43:53            238         13  0.875            \n",
      "gpiosenka/100-bird-species                                  140 Bird Species                                    828MB  2020-03-11 23:44:39            562         51  0.6875           \n",
      "jessemostipak/hotel-booking-demand                          Hotel booking demand                                  1MB  2020-02-13 01:27:20           8130        360  1.0              \n",
      "tunguz/big-five-personality-test                            Big Five Personality Test                           159MB  2020-02-17 15:59:37           2464        173  0.9705882        \n",
      "arindam235/startup-investments-crunchbase                   StartUp Investments (Crunchbase)                      3MB  2020-02-17 21:54:42           1911        115  0.88235295       \n",
      "brendaso/2019-coronavirus-dataset-01212020-01262020         2019 Coronavirus dataset (January - February 2020)   53KB  2020-02-06 18:09:28           8214        418  0.7352941        \n",
      "jamzing/sars-coronavirus-accession                          SARS CORONAVIRUS ACCESSION                            2MB  2020-02-18 15:49:34           2184        115  0.9411765        \n",
      "timoboz/data-science-cheat-sheets                           Data Science Cheat Sheets                           596MB  2020-02-04 19:42:27           4282        277  0.875            \n",
      "brandenciranni/democratic-debate-transcripts-2020           Democratic Debate Transcripts 2020                  565KB  2020-02-27 00:07:40            596         56  1.0              \n"
     ]
    }
   ],
   "source": [
    "# List datasets available in kaggle\n",
    "!kaggle datasets list"
   ]
  },
  {
   "cell_type": "code",
   "execution_count": 2,
   "metadata": {},
   "outputs": [
    {
     "name": "stdout",
     "output_type": "stream",
     "text": [
      "Downloading novel-corona-virus-2019-dataset.zip to /home/bigdata/github/covid_19\n",
      "  0%|                                                | 0.00/348k [00:00<?, ?B/s]\n",
      "100%|████████████████████████████████████████| 348k/348k [00:00<00:00, 4.75MB/s]\n",
      "Archive:  novel-corona-virus-2019-dataset.zip\n",
      "  inflating: covid_data/COVID19_line_list_data.csv  \n",
      "  inflating: covid_data/COVID19_open_line_list.csv  \n",
      "  inflating: covid_data/covid_19_data.csv  \n",
      "  inflating: covid_data/time_series_covid_19_confirmed.csv  \n",
      "  inflating: covid_data/time_series_covid_19_deaths.csv  \n",
      "  inflating: covid_data/time_series_covid_19_recovered.csv  \n"
     ]
    }
   ],
   "source": [
    "# Download the COVIDdataset and save files in 'covid_data/' (GOLD)\n",
    "!rm -rf covid_data \n",
    "!kaggle datasets download sudalairajkumar/novel-corona-virus-2019-dataset \n",
    "!unzip novel-corona-virus-2019-dataset.zip -d covid_data \n",
    "!rm -rf novel-corona-virus-2019-dataset.zip \n",
    "\n",
    "date_field = 'ObservationDate'\n",
    "country_field = 'Country/Region'"
   ]
  },
  {
   "cell_type": "code",
   "execution_count": 7,
   "metadata": {},
   "outputs": [
    {
     "name": "stdout",
     "output_type": "stream",
     "text": [
      "Downloading corona-virus-report.zip to /home/bigdata/github/covid_19\n",
      "  0%|                                               | 0.00/63.1k [00:00<?, ?B/s]\n",
      "100%|██████████████████████████████████████| 63.1k/63.1k [00:00<00:00, 1.66MB/s]\n",
      "Archive:  corona-virus-report.zip\n",
      "  inflating: covid_data/covid_19_clean_complete.csv  \n"
     ]
    }
   ],
   "source": [
    "# Download the COVIDdataset and save files in 'covid_data/' (SILVER)\n",
    "!rm -rf covid_data \n",
    "!kaggle datasets download -d imdevskp/corona-virus-report\n",
    "!unzip corona-virus-report.zip -d covid_data \n",
    "!rm -rf corona-virus-report.zip \n",
    "!mv covid_data/covid_19_clean_complete.csv covid_data/covid_19_data.csv\n",
    "\n",
    "date_field = 'Date'\n",
    "country_field = 'Country/Region'"
   ]
  },
  {
   "cell_type": "code",
   "execution_count": 4,
   "metadata": {},
   "outputs": [
    {
     "name": "stdout",
     "output_type": "stream",
     "text": [
      "Downloading covid19-coronavirus.zip to /home/bigdata/github/covid_19\n",
      "  0%|                                                | 0.00/240k [00:00<?, ?B/s]\n",
      "100%|████████████████████████████████████████| 240k/240k [00:00<00:00, 3.87MB/s]\n",
      "Archive:  covid19-coronavirus.zip\n",
      "  inflating: covid_data/2019_nCoV_data.csv  \n",
      "  inflating: covid_data/time_series_19-covid-Confirmed.xlsx  \n",
      "  inflating: covid_data/time_series_19-covid-Deaths.xlsx  \n",
      "  inflating: covid_data/time_series_19-covid-Recovered.xlsx  \n"
     ]
    }
   ],
   "source": [
    "# Download the COVIDdataset and save files in 'covid_data/' (LESS IMPORTANT)\n",
    "!rm -rf covid_data \n",
    "!kaggle datasets download -d vignesh1694/covid19-coronavirus\n",
    "!unzip covid19-coronavirus.zip -d covid_data \n",
    "!rm -rf covid19-coronavirus.zip \n",
    "!mv covid_data/2019_nCoV_data.csv covid_data/covid_19_data.csv\n",
    "\n",
    "date_field = 'Date'\n",
    "country_field = 'Country'"
   ]
  },
  {
   "cell_type": "code",
   "execution_count": 8,
   "metadata": {
    "scrolled": true
   },
   "outputs": [
    {
     "name": "stderr",
     "output_type": "stream",
     "text": [
      "/home/bigdata/anaconda3/lib/python3.7/site-packages/ipykernel_launcher.py:40: SettingWithCopyWarning: \n",
      "A value is trying to be set on a copy of a slice from a DataFrame.\n",
      "Try using .loc[row_indexer,col_indexer] = value instead\n",
      "\n",
      "See the caveats in the documentation: http://pandas.pydata.org/pandas-docs/stable/user_guide/indexing.html#returning-a-view-versus-a-copy\n",
      "/home/bigdata/anaconda3/lib/python3.7/site-packages/ipykernel_launcher.py:43: SettingWithCopyWarning: \n",
      "A value is trying to be set on a copy of a slice from a DataFrame.\n",
      "Try using .loc[row_indexer,col_indexer] = value instead\n",
      "\n",
      "See the caveats in the documentation: http://pandas.pydata.org/pandas-docs/stable/user_guide/indexing.html#returning-a-view-versus-a-copy\n"
     ]
    },
    {
     "data": {
      "text/html": [
       "<div>\n",
       "<style scoped>\n",
       "    .dataframe tbody tr th:only-of-type {\n",
       "        vertical-align: middle;\n",
       "    }\n",
       "\n",
       "    .dataframe tbody tr th {\n",
       "        vertical-align: top;\n",
       "    }\n",
       "\n",
       "    .dataframe thead th {\n",
       "        text-align: right;\n",
       "    }\n",
       "</style>\n",
       "<table border=\"1\" class=\"dataframe\">\n",
       "  <thead>\n",
       "    <tr style=\"text-align: right;\">\n",
       "      <th></th>\n",
       "      <th>Province/State</th>\n",
       "      <th>Country/Region</th>\n",
       "      <th>Lat</th>\n",
       "      <th>Long</th>\n",
       "      <th>Date</th>\n",
       "      <th>Confirmed</th>\n",
       "      <th>Deaths</th>\n",
       "      <th>Recovered</th>\n",
       "      <th>Active</th>\n",
       "    </tr>\n",
       "    <tr>\n",
       "      <th>Datetime</th>\n",
       "      <th></th>\n",
       "      <th></th>\n",
       "      <th></th>\n",
       "      <th></th>\n",
       "      <th></th>\n",
       "      <th></th>\n",
       "      <th></th>\n",
       "      <th></th>\n",
       "      <th></th>\n",
       "    </tr>\n",
       "  </thead>\n",
       "  <tbody>\n",
       "    <tr>\n",
       "      <td>2020-03-09</td>\n",
       "      <td>NaN</td>\n",
       "      <td>Spain</td>\n",
       "      <td>40.0</td>\n",
       "      <td>-4.0</td>\n",
       "      <td>3/9/20</td>\n",
       "      <td>1073</td>\n",
       "      <td>28</td>\n",
       "      <td>32</td>\n",
       "      <td>1013</td>\n",
       "    </tr>\n",
       "    <tr>\n",
       "      <td>2020-03-10</td>\n",
       "      <td>NaN</td>\n",
       "      <td>Spain</td>\n",
       "      <td>40.0</td>\n",
       "      <td>-4.0</td>\n",
       "      <td>3/10/20</td>\n",
       "      <td>1695</td>\n",
       "      <td>35</td>\n",
       "      <td>32</td>\n",
       "      <td>1628</td>\n",
       "    </tr>\n",
       "    <tr>\n",
       "      <td>2020-03-11</td>\n",
       "      <td>NaN</td>\n",
       "      <td>Spain</td>\n",
       "      <td>40.0</td>\n",
       "      <td>-4.0</td>\n",
       "      <td>3/11/20</td>\n",
       "      <td>2277</td>\n",
       "      <td>54</td>\n",
       "      <td>183</td>\n",
       "      <td>2040</td>\n",
       "    </tr>\n",
       "    <tr>\n",
       "      <td>2020-03-12</td>\n",
       "      <td>NaN</td>\n",
       "      <td>Spain</td>\n",
       "      <td>40.0</td>\n",
       "      <td>-4.0</td>\n",
       "      <td>3/12/20</td>\n",
       "      <td>2277</td>\n",
       "      <td>55</td>\n",
       "      <td>183</td>\n",
       "      <td>2039</td>\n",
       "    </tr>\n",
       "    <tr>\n",
       "      <td>2020-03-13</td>\n",
       "      <td>NaN</td>\n",
       "      <td>Spain</td>\n",
       "      <td>40.0</td>\n",
       "      <td>-4.0</td>\n",
       "      <td>3/13/20</td>\n",
       "      <td>5232</td>\n",
       "      <td>133</td>\n",
       "      <td>193</td>\n",
       "      <td>4906</td>\n",
       "    </tr>\n",
       "  </tbody>\n",
       "</table>\n",
       "</div>"
      ],
      "text/plain": [
       "           Province/State Country/Region   Lat  Long     Date  Confirmed  \\\n",
       "Datetime                                                                   \n",
       "2020-03-09            NaN          Spain  40.0  -4.0   3/9/20       1073   \n",
       "2020-03-10            NaN          Spain  40.0  -4.0  3/10/20       1695   \n",
       "2020-03-11            NaN          Spain  40.0  -4.0  3/11/20       2277   \n",
       "2020-03-12            NaN          Spain  40.0  -4.0  3/12/20       2277   \n",
       "2020-03-13            NaN          Spain  40.0  -4.0  3/13/20       5232   \n",
       "\n",
       "            Deaths  Recovered  Active  \n",
       "Datetime                               \n",
       "2020-03-09      28         32    1013  \n",
       "2020-03-10      35         32    1628  \n",
       "2020-03-11      54        183    2040  \n",
       "2020-03-12      55        183    2039  \n",
       "2020-03-13     133        193    4906  "
      ]
     },
     "execution_count": 8,
     "metadata": {},
     "output_type": "execute_result"
    }
   ],
   "source": [
    "import pandas as pd\n",
    "import matplotlib.pyplot as plt\n",
    "from matplotlib import dates\n",
    "from matplotlib.pyplot import figure\n",
    "\n",
    "\n",
    "# To return the RMS between different countries\n",
    "def distance_between_countries(df_1, df_2):\n",
    "    difference = df_1['Active'] - df_2['Active']\n",
    "    difference_not_nan = difference[difference.isnull()==False] # These are the non NaN values\n",
    "    if len(difference_not_nan)==0: # There are not values to compare to obtain RMS, so its useless\n",
    "        score = 10*(10**20)\n",
    "    elif len(difference_not_nan)>0:\n",
    "        score = sum(abs(difference_not_nan))\n",
    "        \n",
    "    return score\n",
    "\n",
    "# For obtaining the oprimal shifted plot\n",
    "def optimal_shifted_df(df_italy, df_country, days_range):\n",
    "    score_dictionary = {}\n",
    "    if days_range!=0:\n",
    "        for days_to_move in range(-days_range,days_range):\n",
    "            df_country_shifted = df_country.shift(periods=days_to_move, freq=None, axis=0)\n",
    "            score_dictionary[days_to_move] = distance_between_countries(df_italy, df_country_shifted)\n",
    "        optimal_day = min(score_dictionary, key=score_dictionary.get)\n",
    "    else:\n",
    "        optimal_day = 0\n",
    "    df_country_shifted = df_country.shift(periods=optimal_day, freq=None, axis=0)\n",
    "    \n",
    "    #print(score_dictionary)\n",
    "    #print(optimal_day)\n",
    "    \n",
    "    return df_country_shifted, optimal_day\n",
    "\n",
    "\n",
    "# Defining dataframe for specified country\n",
    "def get_country_cases(country):\n",
    "    df_total = pd.read_csv('covid_data/covid_19_data.csv')\n",
    "    df_country = df_total[df_total[country_field]==country]\n",
    "    df_country['Active'] = df_country['Confirmed'] - (df_country['Deaths'] + df_country['Recovered'])\n",
    "    \n",
    "    # Indexes must be the same when I want to compare different countries\n",
    "    df_country['Datetime'] = pd.to_datetime(df_country[date_field])\n",
    "    df_country = df_country.set_index('Datetime')\n",
    "    \n",
    "    return df_country\n",
    "\n",
    "get_country_cases('Spain').tail(5) # Last 5 days"
   ]
  },
  {
   "cell_type": "code",
   "execution_count": 9,
   "metadata": {
    "scrolled": false
   },
   "outputs": [
    {
     "name": "stderr",
     "output_type": "stream",
     "text": [
      "/home/bigdata/anaconda3/lib/python3.7/site-packages/ipykernel_launcher.py:40: SettingWithCopyWarning: \n",
      "A value is trying to be set on a copy of a slice from a DataFrame.\n",
      "Try using .loc[row_indexer,col_indexer] = value instead\n",
      "\n",
      "See the caveats in the documentation: http://pandas.pydata.org/pandas-docs/stable/user_guide/indexing.html#returning-a-view-versus-a-copy\n",
      "/home/bigdata/anaconda3/lib/python3.7/site-packages/ipykernel_launcher.py:43: SettingWithCopyWarning: \n",
      "A value is trying to be set on a copy of a slice from a DataFrame.\n",
      "Try using .loc[row_indexer,col_indexer] = value instead\n",
      "\n",
      "See the caveats in the documentation: http://pandas.pydata.org/pandas-docs/stable/user_guide/indexing.html#returning-a-view-versus-a-copy\n"
     ]
    },
    {
     "data": {
      "image/png": "[encoded data removed]",
      "text/plain": [
       "<Figure size 1080x720 with 1 Axes>"
      ]
     },
     "metadata": {
      "needs_background": "light"
     },
     "output_type": "display_data"
    }
   ],
   "source": [
    "# Required imports \n",
    "import math\n",
    "import numpy as np\n",
    "\n",
    "# Country lists\n",
    "df_list = []\n",
    "last_days_to_show = 20\n",
    "color_vector = ['blue','red','green']\n",
    "country_names = ['Italy','Spain','Germany']\n",
    "days_window_size = 20 # to define a range = [-20,20] in order to obtain RMS.\n",
    "                      # '0' if I dont want to shift graphs\n",
    "\n",
    "# Defining new cases \n",
    "for name in country_names:\n",
    "    df_list.append(get_country_cases(name))\n",
    "\n",
    "#df_country = get_country_cases('Spain')\n",
    "\n",
    "\n",
    "# Define plot parameters\n",
    "ax = plt.gca()\n",
    "\n",
    "for i, df_country in enumerate(df_list):\n",
    "    if i==0: # Italy     \n",
    "        df_italy = df_country.copy()\n",
    "        ax_0 = df_italy.tail(last_days_to_show).plot(kind='line', lw=4, color=color_vector[0], grid=True, figsize=(15,10), x=date_field, y='Active', ax=ax)   \n",
    "    else:\n",
    "        df_country_shifted, optimal_day = optimal_shifted_df(df_italy, df_country, days_window_size)\n",
    "        globals()['ax_'+str(i)] = df_country_shifted.tail(last_days_to_show).plot(kind='line', lw=4, color=color_vector[i], grid=True, figsize=(15,10), x=date_field, y='Active', ax=ax)   \n",
    "        country_names[i] += ': ' + str(optimal_day) + ' days'\n",
    "        \n",
    "        \n",
    "    #globals()['ax_'+str(i)] = df_country.plot(kind='bar', alpha=0.3, legend=False, color=color_vector[i], grid=True, figsize=(15,10), x='ObservationDate', y='NewCases', ax=ax)\n",
    "ax_0 = df_italy.tail(last_days_to_show).plot(kind='line', lw=4, color=color_vector[0], grid=True, figsize=(15,10), x=date_field, y='Active', ax=ax)   \n",
    "\n",
    "#ax_1 = df_country.plot(kind='line', legend=True, lw=4, color='blue', grid=True, figsize=(15,10), x='ObservationDate', y='NewCases', ax=ax)   \n",
    "#df_country_shifted = optimal_shifted_df(df_country, days_range)\n",
    "#ax_2 = df_country_shifted.plot(kind='line', legend=True, lw=4, color='red', grid=True, figsize=(15,10), x='ObservationDate', y='NewCases', ax=ax)   \n",
    "\n",
    "\n",
    "ax_0 = df_italy.tail(last_days_to_show).plot(kind='bar', alpha=0, legend=False, color='blue', grid=True, figsize=(15,10), x=date_field, y='Active', ax=ax)\n",
    "\n",
    "\n",
    "ax.set_ylabel(\"Active cases\")\n",
    "ax.legend(country_names)\n",
    "    \n",
    "# Plot the data\n",
    "plt.show()"
   ]
  },
  {
   "cell_type": "code",
   "execution_count": null,
   "metadata": {},
   "outputs": [],
   "source": []
  }
 ],
 "metadata": {
  "kernelspec": {
   "display_name": "Python 3",
   "language": "python",
   "name": "python3"
  },
  "language_info": {
   "codemirror_mode": {
    "name": "ipython",
    "version": 3
   },
   "file_extension": ".py",
   "mimetype": "text/x-python",
   "name": "python",
   "nbconvert_exporter": "python",
   "pygments_lexer": "ipython3",
   "version": "3.7.4"
  }
 },
 "nbformat": 4,
 "nbformat_minor": 2
}
